{
 "cells": [
  {
   "cell_type": "code",
   "execution_count": 8,
   "id": "5c2c6bc2-c0ce-4d20-af41-17456168d1de",
   "metadata": {},
   "outputs": [],
   "source": [
    "import pyodbc\n",
    "import pandas as pd\n",
    "\n",
    "# Paramètres de connexion\n",
    "server = 'DESKTOP-7H57DPS'  # Remplace par le nom de ton serveur SQL\n",
    "database = 'DW_PI'  # Remplace par le nom de ta base de données\n",
    "username = ''  # Ton nom d'utilisateur\n",
    "password = ''  # Ton mot de passe\n",
    "\n",
    "# Connexion à la base de données\n",
    "conn = pyodbc.connect(f'DRIVER={{SQL Server}};'\n",
    "                      f'SERVER={server};'\n",
    "                      f'DATABASE={database};'\n",
    "                      f'UID={username};'\n",
    "                      f'PWD={password}')"
   ]
  },
  {
   "cell_type": "code",
   "execution_count": 10,
   "id": "f0d42279-0f99-4451-b7e0-6415f23228e5",
   "metadata": {},
   "outputs": [
    {
     "name": "stdout",
     "output_type": "stream",
     "text": [
      "   id_factAchat  fk_client  fk_date  fk_produit  fk_region  fk_source  \\\n",
      "0             1        861     1007      964449         51          1   \n",
      "1             2        862     1091      972707         22          1   \n",
      "2             3        862      760      973950         22          3   \n",
      "3             4        863        4      961912         18          3   \n",
      "4             5        864     1056      970849         49          1   \n",
      "\n",
      "   Quantité Achetée  Prix Unitaire  Prix Total  \n",
      "0               1.0           8590      8590.0  \n",
      "1               2.0          37900     75800.0  \n",
      "2               3.0           3530     10590.0  \n",
      "3               1.0           4950      4950.0  \n",
      "4               3.0          10490     31470.0  \n"
     ]
    },
    {
     "name": "stderr",
     "output_type": "stream",
     "text": [
      "C:\\Users\\Tasnim ben Salah\\AppData\\Local\\Temp\\ipykernel_23968\\1342849441.py:2: UserWarning: pandas only supports SQLAlchemy connectable (engine/connection) or database string URI or sqlite3 DBAPI2 connection. Other DBAPI2 objects are not tested. Please consider using SQLAlchemy.\n",
      "  df_test = pd.read_sql(query_test, conn)\n"
     ]
    }
   ],
   "source": [
    "query_test = \"SELECT TOP 5 * FROM fact_achat\"\n",
    "df_test = pd.read_sql(query_test, conn)\n",
    "\n",
    "# Afficher le résultat\n",
    "print(df_test.head())"
   ]
  },
  {
   "cell_type": "code",
   "execution_count": 11,
   "id": "c4205b3c-6d8f-4596-8af8-1013814159c6",
   "metadata": {},
   "outputs": [],
   "source": [
    "query_aggregation = \"\"\"\n",
    "SELECT \n",
    "    MONTH(dd.[Date d'Achat]) AS mois,\n",
    "    YEAR(dd.[Date d'Achat]) AS annee,\n",
    "    ds.source,\n",
    "    dc.categorie,\n",
    "    SUM(fa.[Quantité Achetée]) AS quantite_achetee\n",
    "FROM fact_achat fa\n",
    "JOIN dim_source ds ON fa.fk_source = ds.id_source\n",
    "JOIN dim_produits dp ON fa.fk_produit = dp.id_produit\n",
    "JOIN dim_categorie dc ON dp.id_categorie = dc.id_categorie\n",
    "JOIN dim_date dd ON fa.fk_date = dd.id_date\n",
    "GROUP BY MONTH(dd.[Date d'Achat]), YEAR(dd.[Date d'Achat]), ds.source, dc.categorie\n",
    "ORDER BY annee, mois, ds.source, dc.categorie\n",
    "\"\"\"\n"
   ]
  },
  {
   "cell_type": "code",
   "execution_count": 12,
   "id": "c5afbceb-f0f0-471d-8b09-4711bed9a30f",
   "metadata": {},
   "outputs": [
    {
     "name": "stderr",
     "output_type": "stream",
     "text": [
      "C:\\Users\\Tasnim ben Salah\\AppData\\Local\\Temp\\ipykernel_23968\\3803270496.py:1: UserWarning: pandas only supports SQLAlchemy connectable (engine/connection) or database string URI or sqlite3 DBAPI2 connection. Other DBAPI2 objects are not tested. Please consider using SQLAlchemy.\n",
      "  df_model = pd.read_sql(query_aggregation, conn)\n"
     ]
    },
    {
     "name": "stdout",
     "output_type": "stream",
     "text": [
      "     mois  annee     source categorie  quantite_achetee\n",
      "0       1   2023  carrefour  Boissons             118.0\n",
      "1       1   2023  carrefour  cremerie             255.0\n",
      "2       1   2023  carrefour  epicerie             884.0\n",
      "3       1   2023  carrefour    marché             192.0\n",
      "4       1   2023      geant  Boissons             356.0\n",
      "..    ...    ...        ...       ...               ...\n",
      "211    12   2024      geant  Boissons             391.0\n",
      "212    12   2024      geant  cremerie             349.0\n",
      "213    12   2024      geant  epicerie            1272.0\n",
      "214    12   2024      geant   Hygiene            2004.0\n",
      "215    12   2024      geant    marché             213.0\n",
      "\n",
      "[216 rows x 5 columns]\n"
     ]
    }
   ],
   "source": [
    "df_model = pd.read_sql(query_aggregation, conn)\n",
    "print(df_model)\n"
   ]
  },
  {
   "cell_type": "code",
   "execution_count": 13,
   "id": "73229af9-50f1-4088-9f9b-6cd7c1f5c176",
   "metadata": {},
   "outputs": [
    {
     "name": "stdout",
     "output_type": "stream",
     "text": [
      "     mois  annee  source_carrefour  source_geant  categorie_Boissons  \\\n",
      "84     10   2023              True         False               False   \n",
      "95     11   2023             False          True               False   \n",
      "137     4   2024              True         False               False   \n",
      "211    12   2024             False          True                True   \n",
      "86     10   2023             False          True               False   \n",
      "\n",
      "     categorie_Hygiene  categorie_cremerie  categorie_epicerie  \\\n",
      "84               False               False               False   \n",
      "95               False                True               False   \n",
      "137              False               False                True   \n",
      "211              False               False               False   \n",
      "86               False                True               False   \n",
      "\n",
      "     categorie_marché  \n",
      "84               True  \n",
      "95              False  \n",
      "137             False  \n",
      "211             False  \n",
      "86              False  \n"
     ]
    }
   ],
   "source": [
    "from sklearn.preprocessing import OneHotEncoder\n",
    "from sklearn.model_selection import train_test_split\n",
    "\n",
    "# Variables explicatives\n",
    "X = df_model[['mois', 'annee', 'source', 'categorie']]\n",
    "\n",
    "# Variable cible\n",
    "y = df_model['quantite_achetee']\n",
    "\n",
    "# Encodage One-Hot sur les colonnes catégorielles\n",
    "X_encoded = pd.get_dummies(X, columns=['source', 'categorie'])\n",
    "\n",
    "# Séparer les données pour entraînement et test\n",
    "X_train, X_test, y_train, y_test = train_test_split(X_encoded, y, test_size=0.2, random_state=42)\n",
    "\n",
    "print(X_train.head())\n"
   ]
  },
  {
   "cell_type": "code",
   "execution_count": 14,
   "id": "e5ea3ac1-c525-4db2-9382-8659e52393d5",
   "metadata": {},
   "outputs": [
    {
     "name": "stdout",
     "output_type": "stream",
     "text": [
      "MAE (Erreur absolue moyenne) : 68.48\n",
      "R² (Score de prédiction) : 0.97\n"
     ]
    }
   ],
   "source": [
    "from sklearn.ensemble import RandomForestRegressor\n",
    "from sklearn.metrics import mean_absolute_error, r2_score\n",
    "\n",
    "# Initialisation du modèle\n",
    "model = RandomForestRegressor(n_estimators=100, random_state=42)\n",
    "\n",
    "# Entraînement du modèle\n",
    "model.fit(X_train, y_train)\n",
    "\n",
    "# Prédiction sur les données de test\n",
    "y_pred = model.predict(X_test)\n",
    "\n",
    "# Évaluation\n",
    "mae = mean_absolute_error(y_test, y_pred)\n",
    "r2 = r2_score(y_test, y_pred)\n",
    "\n",
    "print(f\"MAE (Erreur absolue moyenne) : {mae:.2f}\")\n",
    "print(f\"R² (Score de prédiction) : {r2:.2f}\")\n"
   ]
  },
  {
   "cell_type": "code",
   "execution_count": 15,
   "id": "72736262-7a3c-4a19-85e3-0a090330325c",
   "metadata": {},
   "outputs": [
    {
     "name": "stdout",
     "output_type": "stream",
     "text": [
      "Quantité achetée prédite en mars 2025 : 1540.34\n"
     ]
    }
   ],
   "source": [
    "input_data = pd.DataFrame([{\n",
    "    'mois': 3,\n",
    "    'annee': 2025,  # année jamais vue\n",
    "    'source_carrefour': False,\n",
    "    'source_geant': True,\n",
    "    'categorie_Boissons': False,\n",
    "    'categorie_Hygiene': False,\n",
    "    'categorie_cremerie': False,\n",
    "    'categorie_epicerie': True,\n",
    "    'categorie_marché': False\n",
    "}])\n",
    "\n",
    "prediction = model.predict(input_data)[0]\n",
    "print(f\"Quantité achetée prédite en mars 2025 : {prediction:.2f}\")\n"
   ]
  },
  {
   "cell_type": "code",
   "execution_count": 16,
   "id": "5a812df3-d1c8-46df-9cd0-2129f74d5357",
   "metadata": {},
   "outputs": [
    {
     "name": "stdout",
     "output_type": "stream",
     "text": [
      "Mois 1 - Quantité prédite : 1342.65\n",
      "Mois 2 - Quantité prédite : 1288.70\n",
      "Mois 3 - Quantité prédite : 1540.34\n",
      "Mois 4 - Quantité prédite : 1319.71\n",
      "Mois 5 - Quantité prédite : 1231.08\n",
      "Mois 6 - Quantité prédite : 1302.44\n",
      "Mois 7 - Quantité prédite : 1592.65\n",
      "Mois 8 - Quantité prédite : 1560.87\n",
      "Mois 9 - Quantité prédite : 1500.64\n",
      "Mois 10 - Quantité prédite : 1377.12\n",
      "Mois 11 - Quantité prédite : 1377.84\n",
      "Mois 12 - Quantité prédite : 1304.59\n"
     ]
    }
   ],
   "source": [
    "for mois in range(1, 13):\n",
    "    input_data = pd.DataFrame([{\n",
    "        'mois': mois,\n",
    "        'annee': 2025,\n",
    "        'source_carrefour': False,\n",
    "        'source_geant': True,\n",
    "        'categorie_Boissons': False,\n",
    "        'categorie_Hygiene': False,\n",
    "        'categorie_cremerie': False,\n",
    "        'categorie_epicerie': True,\n",
    "        'categorie_marché': False\n",
    "    }])\n",
    "    \n",
    "    prediction = model.predict(input_data)[0]\n",
    "    print(f\"Mois {mois} - Quantité prédite : {prediction:.2f}\")\n"
   ]
  },
  {
   "cell_type": "code",
   "execution_count": 17,
   "id": "760ddfa4-d271-4b6b-973b-419ca85c8002",
   "metadata": {},
   "outputs": [
    {
     "name": "stdout",
     "output_type": "stream",
     "text": [
      "              Modèle        R²\n",
      "1      Random Forest  0.968897\n",
      "0  Linear Regression  0.949826\n",
      "2                KNN  0.826211\n",
      "3                SVR -0.286337\n"
     ]
    }
   ],
   "source": [
    "from sklearn.linear_model import LinearRegression\n",
    "from sklearn.ensemble import RandomForestRegressor, GradientBoostingRegressor\n",
    "from sklearn.neighbors import KNeighborsRegressor\n",
    "from sklearn.svm import SVR\n",
    "from sklearn.metrics import r2_score\n",
    "import pandas as pd\n",
    "\n",
    "# Variables explicatives\n",
    "X = df_model[['mois', 'annee', 'source', 'categorie']]\n",
    "\n",
    "# Variable cible\n",
    "y = df_model['quantite_achetee']\n",
    "\n",
    "# Encodage One-Hot sur les colonnes catégorielles\n",
    "X_encoded = pd.get_dummies(X, columns=['source', 'categorie'])\n",
    "\n",
    "# Séparer les données pour entraînement et test\n",
    "from sklearn.model_selection import train_test_split\n",
    "X_train, X_test, y_train, y_test = train_test_split(X_encoded, y, test_size=0.2, random_state=42)\n",
    "\n",
    "# Liste des modèles à tester\n",
    "models = {\n",
    "    'Linear Regression': LinearRegression(),\n",
    "    'Random Forest': RandomForestRegressor(n_estimators=100, random_state=42),\n",
    "    'KNN': KNeighborsRegressor(n_neighbors=5),\n",
    "    'SVR': SVR(kernel='rbf')\n",
    "}\n",
    "\n",
    "# Dictionnaire pour stocker les résultats\n",
    "results = []\n",
    "\n",
    "# Entraîner et évaluer chaque modèle\n",
    "for name, model in models.items():\n",
    "    model.fit(X_train, y_train)  # Entraîner le modèle\n",
    "    y_pred = model.predict(X_test)  # Prédiction sur l'ensemble de test\n",
    "    r2 = r2_score(y_test, y_pred)  # Calcul du score R²\n",
    "    results.append({'Modèle': name, 'R²': r2})\n",
    "\n",
    "# Convertir les résultats en DataFrame et trier par R²\n",
    "results_df = pd.DataFrame(results).sort_values(by='R²', ascending=False)\n",
    "\n",
    "# Affichage des résultats\n",
    "print(results_df)\n"
   ]
  },
  {
   "cell_type": "code",
   "execution_count": 18,
   "id": "b2a9ee80-8495-4773-91d4-f86abc532b08",
   "metadata": {},
   "outputs": [
    {
     "data": {
      "text/plain": [
       "['columns1.pkl']"
      ]
     },
     "execution_count": 18,
     "metadata": {},
     "output_type": "execute_result"
    }
   ],
   "source": [
    "import joblib\n",
    "joblib.dump(model, 'model1.pkl')\n",
    "joblib.dump(X_encoded.columns.tolist(), 'columns1.pkl')"
   ]
  },
  {
   "cell_type": "code",
   "execution_count": null,
   "id": "eb246848-c8ea-4a0a-9556-3275f44ffdae",
   "metadata": {},
   "outputs": [],
   "source": []
  }
 ],
 "metadata": {
  "kernelspec": {
   "display_name": "Python 3 (ipykernel)",
   "language": "python",
   "name": "python3"
  },
  "language_info": {
   "codemirror_mode": {
    "name": "ipython",
    "version": 3
   },
   "file_extension": ".py",
   "mimetype": "text/x-python",
   "name": "python",
   "nbconvert_exporter": "python",
   "pygments_lexer": "ipython3",
   "version": "3.12.7"
  }
 },
 "nbformat": 4,
 "nbformat_minor": 5
}
